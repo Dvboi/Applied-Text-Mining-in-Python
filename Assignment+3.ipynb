{
 "cells": [
  {
   "cell_type": "markdown",
   "metadata": {},
   "source": [
    "---\n",
    "\n",
    "_You are currently looking at **version 1.1** of this notebook. To download notebooks and datafiles, as well as get help on Jupyter notebooks in the Coursera platform, visit the [Jupyter Notebook FAQ](https://www.coursera.org/learn/python-text-mining/resources/d9pwm) course resource._\n",
    "\n",
    "---"
   ]
  },
  {
   "cell_type": "markdown",
   "metadata": {},
   "source": [
    "# Assignment 3\n",
    "\n",
    "In this assignment you will explore text message data and create models to predict if a message is spam or not. "
   ]
  },
  {
   "cell_type": "code",
   "execution_count": 1,
   "metadata": {},
   "outputs": [
    {
     "data": {
      "text/html": [
       "<div>\n",
       "<style>\n",
       "    .dataframe thead tr:only-child th {\n",
       "        text-align: right;\n",
       "    }\n",
       "\n",
       "    .dataframe thead th {\n",
       "        text-align: left;\n",
       "    }\n",
       "\n",
       "    .dataframe tbody tr th {\n",
       "        vertical-align: top;\n",
       "    }\n",
       "</style>\n",
       "<table border=\"1\" class=\"dataframe\">\n",
       "  <thead>\n",
       "    <tr style=\"text-align: right;\">\n",
       "      <th></th>\n",
       "      <th>text</th>\n",
       "      <th>target</th>\n",
       "    </tr>\n",
       "  </thead>\n",
       "  <tbody>\n",
       "    <tr>\n",
       "      <th>0</th>\n",
       "      <td>Go until jurong point, crazy.. Available only ...</td>\n",
       "      <td>0</td>\n",
       "    </tr>\n",
       "    <tr>\n",
       "      <th>1</th>\n",
       "      <td>Ok lar... Joking wif u oni...</td>\n",
       "      <td>0</td>\n",
       "    </tr>\n",
       "    <tr>\n",
       "      <th>2</th>\n",
       "      <td>Free entry in 2 a wkly comp to win FA Cup fina...</td>\n",
       "      <td>1</td>\n",
       "    </tr>\n",
       "    <tr>\n",
       "      <th>3</th>\n",
       "      <td>U dun say so early hor... U c already then say...</td>\n",
       "      <td>0</td>\n",
       "    </tr>\n",
       "    <tr>\n",
       "      <th>4</th>\n",
       "      <td>Nah I don't think he goes to usf, he lives aro...</td>\n",
       "      <td>0</td>\n",
       "    </tr>\n",
       "    <tr>\n",
       "      <th>5</th>\n",
       "      <td>FreeMsg Hey there darling it's been 3 week's n...</td>\n",
       "      <td>1</td>\n",
       "    </tr>\n",
       "    <tr>\n",
       "      <th>6</th>\n",
       "      <td>Even my brother is not like to speak with me. ...</td>\n",
       "      <td>0</td>\n",
       "    </tr>\n",
       "    <tr>\n",
       "      <th>7</th>\n",
       "      <td>As per your request 'Melle Melle (Oru Minnamin...</td>\n",
       "      <td>0</td>\n",
       "    </tr>\n",
       "    <tr>\n",
       "      <th>8</th>\n",
       "      <td>WINNER!! As a valued network customer you have...</td>\n",
       "      <td>1</td>\n",
       "    </tr>\n",
       "    <tr>\n",
       "      <th>9</th>\n",
       "      <td>Had your mobile 11 months or more? U R entitle...</td>\n",
       "      <td>1</td>\n",
       "    </tr>\n",
       "  </tbody>\n",
       "</table>\n",
       "</div>"
      ],
      "text/plain": [
       "                                                text  target\n",
       "0  Go until jurong point, crazy.. Available only ...       0\n",
       "1                      Ok lar... Joking wif u oni...       0\n",
       "2  Free entry in 2 a wkly comp to win FA Cup fina...       1\n",
       "3  U dun say so early hor... U c already then say...       0\n",
       "4  Nah I don't think he goes to usf, he lives aro...       0\n",
       "5  FreeMsg Hey there darling it's been 3 week's n...       1\n",
       "6  Even my brother is not like to speak with me. ...       0\n",
       "7  As per your request 'Melle Melle (Oru Minnamin...       0\n",
       "8  WINNER!! As a valued network customer you have...       1\n",
       "9  Had your mobile 11 months or more? U R entitle...       1"
      ]
     },
     "execution_count": 1,
     "metadata": {},
     "output_type": "execute_result"
    }
   ],
   "source": [
    "import pandas as pd\n",
    "import numpy as np\n",
    "\n",
    "spam_data = pd.read_csv('spam.csv')\n",
    "\n",
    "spam_data['target'] = np.where(spam_data['target']=='spam',1,0)\n",
    "spam_data.head(10)"
   ]
  },
  {
   "cell_type": "code",
   "execution_count": 2,
   "metadata": {
    "collapsed": true
   },
   "outputs": [],
   "source": [
    "from sklearn.model_selection import train_test_split\n",
    "\n",
    "\n",
    "X_train, X_test, y_train, y_test = train_test_split(spam_data['text'], \n",
    "                                                    spam_data['target'], \n",
    "                                                    random_state=0)"
   ]
  },
  {
   "cell_type": "markdown",
   "metadata": {},
   "source": [
    "### Question 1\n",
    "What percentage of the documents in `spam_data` are spam?\n",
    "\n",
    "*This function should return a float, the percent value (i.e. $ratio * 100$).*"
   ]
  },
  {
   "cell_type": "code",
   "execution_count": 3,
   "metadata": {
    "collapsed": true
   },
   "outputs": [],
   "source": [
    "def answer_one():\n",
    "    return spam_data.target.mean()*100"
   ]
  },
  {
   "cell_type": "code",
   "execution_count": 4,
   "metadata": {},
   "outputs": [
    {
     "data": {
      "text/plain": [
       "13.406317300789663"
      ]
     },
     "execution_count": 4,
     "metadata": {},
     "output_type": "execute_result"
    }
   ],
   "source": [
    "answer_one()\n"
   ]
  },
  {
   "cell_type": "markdown",
   "metadata": {},
   "source": [
    "### Question 2\n",
    "\n",
    "Fit the training data `X_train` using a Count Vectorizer with default parameters.\n",
    "\n",
    "What is the longest token in the vocabulary?\n",
    "\n",
    "*This function should return a string.*"
   ]
  },
  {
   "cell_type": "code",
   "execution_count": 5,
   "metadata": {
    "collapsed": true
   },
   "outputs": [],
   "source": [
    "from sklearn.feature_extraction.text import CountVectorizer\n",
    "\n",
    "def answer_two():\n",
    "    cv = CountVectorizer().fit(X_train)\n",
    "    return max(cv.get_feature_names(),key=len)\n"
   ]
  },
  {
   "cell_type": "code",
   "execution_count": 6,
   "metadata": {},
   "outputs": [
    {
     "data": {
      "text/plain": [
       "'com1win150ppmx3age16subscription'"
      ]
     },
     "execution_count": 6,
     "metadata": {},
     "output_type": "execute_result"
    }
   ],
   "source": [
    "answer_two()"
   ]
  },
  {
   "cell_type": "markdown",
   "metadata": {},
   "source": [
    "### Question 3\n",
    "\n",
    "Fit and transform the training data `X_train` using a Count Vectorizer with default parameters.\n",
    "\n",
    "Next, fit a fit a multinomial Naive Bayes classifier model with smoothing `alpha=0.1`. Find the area under the curve (AUC) score using the transformed test data.\n",
    "\n",
    "*This function should return the AUC score as a float.*"
   ]
  },
  {
   "cell_type": "code",
   "execution_count": 7,
   "metadata": {
    "collapsed": true
   },
   "outputs": [],
   "source": [
    "from sklearn.naive_bayes import MultinomialNB\n",
    "from sklearn.metrics import roc_auc_score\n",
    "\n",
    "def answer_three():\n",
    "    cv = CountVectorizer()\n",
    "    X_train1 = cv.fit_transform(X_train)\n",
    "    X_test1 = cv.transform(X_test)\n",
    "    model = MultinomialNB(alpha=0.1).fit(X_train1,y_train)\n",
    "    y_pred = model.predict_proba(X_test1)\n",
    "    result = roc_auc_score(y_test,y_pred[:,1])     # WHEN WE DO y_pred[:,1] WE TAKE THE PROBABILITY OF THAT INSTANCE BEING A 1/SPAM      \n",
    "    return result"
   ]
  },
  {
   "cell_type": "code",
   "execution_count": 8,
   "metadata": {},
   "outputs": [
    {
     "data": {
      "text/plain": [
       "0.99154542213469599"
      ]
     },
     "execution_count": 8,
     "metadata": {},
     "output_type": "execute_result"
    }
   ],
   "source": [
    "answer_three()"
   ]
  },
  {
   "cell_type": "markdown",
   "metadata": {},
   "source": [
    "### Question 4\n",
    "\n",
    "Fit and transform the training data `X_train` using a Tfidf Vectorizer with default parameters.\n",
    "\n",
    "What 20 features have the smallest tf-idf and what 20 have the largest tf-idf?\n",
    "\n",
    "Put these features in a two series where each series is sorted by tf-idf value and then alphabetically by feature name. The index of the series should be the feature name, and the data should be the tf-idf.\n",
    "\n",
    "The series of 20 features with smallest tf-idfs should be sorted smallest tfidf first, the list of 20 features with largest tf-idfs should be sorted largest first. \n",
    "\n",
    "*This function should return a tuple of two series\n",
    "`(smallest tf-idfs series, largest tf-idfs series)`.*"
   ]
  },
  {
   "cell_type": "code",
   "execution_count": 9,
   "metadata": {
    "collapsed": true
   },
   "outputs": [],
   "source": [
    "from sklearn.feature_extraction.text import TfidfVectorizer\n",
    "\n",
    "def answer_four():\n",
    "    # GETTING FEATURE NAMES\n",
    "    tv = TfidfVectorizer().fit(X_train)\n",
    "    # CONVERTING INTO ARRAY\n",
    "    Feature_names = np.array(tv.get_feature_names())\n",
    "    # TRANSFORMING TRAINING DATA\n",
    "    X_train1 = tv.transform(X_train)\n",
    "    # SORTING INDICES OF ARRAY ACCORDING TO TF-IDF VALUES\n",
    "    sorted_indices = X_train1.max(0).toarray()[0].argsort()\n",
    "    # GETTING LARGEST TF-IDF FEATURE NAMES\n",
    "    largest_tfidf = Feature_names[sorted_indices][-1:-21:-1]\n",
    "    # GETTING LARGEST TF-IDF FEATURE VALUES\n",
    "    largest_tfidf_values = X_train1.max(0).toarray()[0][sorted_indices][-1:-21:-1]\n",
    "    # GETTING SMALLEST TF-IDF FEATURE NAMES\n",
    "    smallest_tfidf = Feature_names[sorted_indices][:20]\n",
    "    # GETTING SMALLEST TF-IDF FEATURE VALUES\n",
    "    smallest_tfidf_values = X_train1.max(0).toarray()[0][sorted_indices][:20]\n",
    "\n",
    "    # CONVERTING TO RESPECTIVE SERIES\n",
    "\n",
    "    temp = pd.DataFrame(data = smallest_tfidf_values,index = smallest_tfidf,columns=[\"tfidf_val\"])\n",
    "    temp = temp.reset_index().sort_values(by=[\"tfidf_val\",\"index\"]).set_index(\"index\")\n",
    "    smallest_tfidfs_series = pd.Series(temp[\"tfidf_val\"])\n",
    "    smallest_tfidfs_series.name=None             #name and index name should both be None as required by the grader\n",
    "    smallest_tfidfs_series.index.name=None\n",
    "\n",
    "    temp_ = pd.DataFrame(data = largest_tfidf_values,index = largest_tfidf,columns=[\"tfidf_val\"])\n",
    "    temp_ = temp_.reset_index().sort_values(by=[\"tfidf_val\",\"index\"],ascending=[False,True]).set_index(\"index\")\n",
    "    largest_tfidfs_series = pd.Series(temp_[\"tfidf_val\"])\n",
    "    largest_tfidfs_series.name = None\n",
    "    largest_tfidfs_series.index.name = None\n",
    "\n",
    "    return smallest_tfidfs_series,largest_tfidfs_series"
   ]
  },
  {
   "cell_type": "code",
   "execution_count": 10,
   "metadata": {},
   "outputs": [
    {
     "data": {
      "text/plain": [
       "(aaniye          0.074475\n",
       " athletic        0.074475\n",
       " chef            0.074475\n",
       " companion       0.074475\n",
       " courageous      0.074475\n",
       " dependable      0.074475\n",
       " determined      0.074475\n",
       " exterminator    0.074475\n",
       " healer          0.074475\n",
       " listener        0.074475\n",
       " organizer       0.074475\n",
       " pest            0.074475\n",
       " psychiatrist    0.074475\n",
       " psychologist    0.074475\n",
       " pudunga         0.074475\n",
       " stylist         0.074475\n",
       " sympathetic     0.074475\n",
       " venaam          0.074475\n",
       " diwali          0.091250\n",
       " mornings        0.091250\n",
       " dtype: float64, 146tf150p    1.000000\n",
       " 645          1.000000\n",
       " anything     1.000000\n",
       " anytime      1.000000\n",
       " beerage      1.000000\n",
       " done         1.000000\n",
       " er           1.000000\n",
       " havent       1.000000\n",
       " home         1.000000\n",
       " lei          1.000000\n",
       " nite         1.000000\n",
       " ok           1.000000\n",
       " okie         1.000000\n",
       " thank        1.000000\n",
       " thanx        1.000000\n",
       " too          1.000000\n",
       " where        1.000000\n",
       " yup          1.000000\n",
       " tick         0.980166\n",
       " blank        0.932702\n",
       " dtype: float64)"
      ]
     },
     "execution_count": 10,
     "metadata": {},
     "output_type": "execute_result"
    }
   ],
   "source": [
    "answer_four()\n"
   ]
  },
  {
   "cell_type": "markdown",
   "metadata": {},
   "source": [
    "### Question 5\n",
    "\n",
    "Fit and transform the training data `X_train` using a Tfidf Vectorizer ignoring terms that have a document frequency strictly lower than **3**.\n",
    "\n",
    "Then fit a multinomial Naive Bayes classifier model with smoothing `alpha=0.1` and compute the area under the curve (AUC) score using the transformed test data.\n",
    "\n",
    "*This function should return the AUC score as a float.*"
   ]
  },
  {
   "cell_type": "code",
   "execution_count": 11,
   "metadata": {
    "collapsed": true
   },
   "outputs": [],
   "source": [
    "def answer_five():\n",
    "    tv = TfidfVectorizer(min_df=3)\n",
    "    X_train1 = tv.fit_transform(X_train)\n",
    "    X_test1 = tv.transform(X_test)\n",
    "    model = MultinomialNB(alpha=0.1)\n",
    "    model.fit(X_train1,y_train)\n",
    "    y_pred = model.predict_proba(X_test1)   \n",
    "    y_pred = y_pred[:,1]          # WE TAKE THE PROBABILITY OF THAT INSTANCE BEING A 1/SPAM\n",
    "    return roc_auc_score(y_test,y_pred)\n"
   ]
  },
  {
   "cell_type": "code",
   "execution_count": 12,
   "metadata": {},
   "outputs": [
    {
     "data": {
      "text/plain": [
       "0.99549683377756659"
      ]
     },
     "execution_count": 12,
     "metadata": {},
     "output_type": "execute_result"
    }
   ],
   "source": [
    "answer_five()"
   ]
  },
  {
   "cell_type": "markdown",
   "metadata": {},
   "source": [
    "### Question 6\n",
    "\n",
    "What is the average length of documents (number of characters) for not spam and spam documents?\n",
    "\n",
    "*This function should return a tuple (average length not spam, average length spam).*"
   ]
  },
  {
   "cell_type": "code",
   "execution_count": 13,
   "metadata": {
    "collapsed": true
   },
   "outputs": [],
   "source": [
    "def answer_six():\n",
    "    spam = spam_data[spam_data[\"target\"]==1]\n",
    "    not_spam = spam_data[spam_data[\"target\"]==0]\n",
    "    avg_len_spam = spam.text.str.len().mean()\n",
    "    avg_len_notspam = not_spam.text.str.len().mean()    \n",
    "    \n",
    "    return avg_len_notspam,avg_len_spam"
   ]
  },
  {
   "cell_type": "code",
   "execution_count": 14,
   "metadata": {},
   "outputs": [
    {
     "data": {
      "text/plain": [
       "(71.023626943005183, 138.8661311914324)"
      ]
     },
     "execution_count": 14,
     "metadata": {},
     "output_type": "execute_result"
    }
   ],
   "source": [
    "answer_six()\n"
   ]
  },
  {
   "cell_type": "markdown",
   "metadata": {},
   "source": [
    "<br>\n",
    "<br>\n",
    "The following function has been provided to help you combine new features into the training data:"
   ]
  },
  {
   "cell_type": "code",
   "execution_count": 15,
   "metadata": {
    "collapsed": true
   },
   "outputs": [],
   "source": [
    "def add_feature(X, feature_to_add):\n",
    "    \"\"\"\n",
    "    Returns sparse feature matrix with added feature.\n",
    "    feature_to_add can also be a list of features.\n",
    "    \"\"\"\n",
    "    from scipy.sparse import csr_matrix, hstack\n",
    "    return hstack([X, csr_matrix(feature_to_add).T], 'csr')"
   ]
  },
  {
   "cell_type": "markdown",
   "metadata": {},
   "source": [
    "### Question 7\n",
    "\n",
    "Fit and transform the training data X_train using a Tfidf Vectorizer ignoring terms that have a document frequency strictly lower than **5**.\n",
    "\n",
    "Using this document-term matrix and an additional feature, **the length of document (number of characters)**, fit a Support Vector Classification model with regularization `C=10000`. Then compute the area under the curve (AUC) score using the transformed test data.\n",
    "\n",
    "*This function should return the AUC score as a float.*"
   ]
  },
  {
   "cell_type": "code",
   "execution_count": 16,
   "metadata": {
    "collapsed": true
   },
   "outputs": [],
   "source": [
    "from sklearn.svm import SVC\n",
    "\n",
    "def answer_seven():\n",
    "    tv = TfidfVectorizer(min_df=5)\n",
    "    # ADDING FEATURE TO TRANSFORMED X_TRAIN\n",
    "    new_train_feature = X_train.str.len()\n",
    "    X_train1 = tv.fit_transform(X_train)\n",
    "    final_train_data = add_feature(X_train1,new_train_feature)\n",
    "    # ADDING FEATURE TO TRANSFORMED X_TEST\n",
    "    new_test_feature = X_test.str.len()\n",
    "    X_test1 = tv.transform(X_test)\n",
    "    final_test_data = add_feature(X_test1,new_test_feature)\n",
    "    # SVC CLASSIFIER BUILDING\n",
    "    model = SVC(C=10000,probability=True).fit(final_train_data,y_train)\n",
    "    y_pred = model.predict_proba(final_test_data)\n",
    "    result = roc_auc_score(y_test,y_pred[:,1])\n",
    "    return result"
   ]
  },
  {
   "cell_type": "code",
   "execution_count": 17,
   "metadata": {},
   "outputs": [
    {
     "data": {
      "text/plain": [
       "0.99511060557187236"
      ]
     },
     "execution_count": 17,
     "metadata": {},
     "output_type": "execute_result"
    }
   ],
   "source": [
    "answer_seven()\n"
   ]
  },
  {
   "cell_type": "markdown",
   "metadata": {},
   "source": [
    "### Question 8\n",
    "\n",
    "What is the average number of digits per document for not spam and spam documents?\n",
    "\n",
    "*This function should return a tuple (average # digits not spam, average # digits spam).*"
   ]
  },
  {
   "cell_type": "code",
   "execution_count": 18,
   "metadata": {
    "collapsed": true
   },
   "outputs": [],
   "source": [
    "def answer_eight():\n",
    "    def has_digit(s):\n",
    "        Sum=0\n",
    "        for char in s:\n",
    "            if char.isdigit():\n",
    "                Sum += 1\n",
    "        return Sum\n",
    "\n",
    "    spam = spam_data[spam_data[\"target\"]==1]\n",
    "    not_spam = spam_data[spam_data[\"target\"]==0]\n",
    "    lst_spam = []\n",
    "    lst_notspam = []\n",
    "    for ele in spam.text:\n",
    "        lst_spam.append(has_digit(ele))\n",
    "    for ele in not_spam.text:\n",
    "        lst_notspam.append(has_digit(ele))\n",
    "    return np.array(lst_notspam).mean(),np.array(lst_spam).mean()"
   ]
  },
  {
   "cell_type": "code",
   "execution_count": 19,
   "metadata": {},
   "outputs": [
    {
     "data": {
      "text/plain": [
       "(0.29927461139896372, 15.759036144578314)"
      ]
     },
     "execution_count": 19,
     "metadata": {},
     "output_type": "execute_result"
    }
   ],
   "source": [
    "answer_eight()\n"
   ]
  },
  {
   "cell_type": "markdown",
   "metadata": {},
   "source": [
    "### Question 9\n",
    "\n",
    "Fit and transform the training data `X_train` using a Tfidf Vectorizer ignoring terms that have a document frequency strictly lower than **5** and using **word n-grams from n=1 to n=3** (unigrams, bigrams, and trigrams).\n",
    "\n",
    "Using this document-term matrix and the following additional features:\n",
    "* the length of document (number of characters)\n",
    "* **number of digits per document**\n",
    "\n",
    "fit a Logistic Regression model with regularization `C=100`. Then compute the area under the curve (AUC) score using the transformed test data.\n",
    "\n",
    "*This function should return the AUC score as a float.*"
   ]
  },
  {
   "cell_type": "code",
   "execution_count": 20,
   "metadata": {
    "collapsed": true
   },
   "outputs": [],
   "source": [
    "from sklearn.linear_model import LogisticRegression\n",
    "def answer_nine():\n",
    "    \n",
    "    def has_digit(s):\n",
    "        Sum=0\n",
    "        for char in s:\n",
    "            if char.isdigit():\n",
    "                Sum += 1\n",
    "        return Sum\n",
    "    \n",
    "    train_DigitCount = []\n",
    "    test_DigitCount = []\n",
    "    for ele in X_train:\n",
    "        train_DigitCount.append(has_digit(ele))\n",
    "    for ele in X_test:\n",
    "        test_DigitCount.append(has_digit(ele))\n",
    "\n",
    "    tv = TfidfVectorizer(min_df=5,ngram_range=(1,3))\n",
    "\n",
    "    X_train1 = tv.fit_transform(X_train)\n",
    "    new_train_feature_1 = X_train.str.len()\n",
    "    new_train_feature_2 = np.array(train_DigitCount)\n",
    "    final_train_data = add_feature(X_train1,[new_train_feature_1,new_train_feature_2])\n",
    "\n",
    "    X_test1 = tv.transform(X_test)\n",
    "    new_test_feature_1 = X_test.str.len()\n",
    "    new_test_feature_2 = np.array(test_DigitCount)\n",
    "    final_test_data = add_feature(X_test1,[new_test_feature_1,new_test_feature_2])\n",
    "\n",
    "    model = LogisticRegression(C=100).fit(final_train_data,y_train)\n",
    "    y_pred = model.predict(final_test_data)     # HERE IT SHOULD BE PREDICT_PROBA BUT GRADER INCORRECTLY WANTS PREDICT\n",
    "    result = roc_auc_score(y_test,y_pred)\n",
    "    return result\n"
   ]
  },
  {
   "cell_type": "code",
   "execution_count": 21,
   "metadata": {},
   "outputs": [
    {
     "data": {
      "text/plain": [
       "0.96533283533945646"
      ]
     },
     "execution_count": 21,
     "metadata": {},
     "output_type": "execute_result"
    }
   ],
   "source": [
    "answer_nine()"
   ]
  },
  {
   "cell_type": "markdown",
   "metadata": {},
   "source": [
    "### Question 10\n",
    "\n",
    "What is the average number of non-word characters (anything other than a letter, digit or underscore) per document for not spam and spam documents?\n",
    "\n",
    "*Hint: Use `\\w` and `\\W` character classes*\n",
    "\n",
    "*This function should return a tuple (average # non-word characters not spam, average # non-word characters spam).*"
   ]
  },
  {
   "cell_type": "code",
   "execution_count": 53,
   "metadata": {
    "collapsed": true
   },
   "outputs": [],
   "source": [
    "def answer_ten():\n",
    "    import re\n",
    "    def non_word_count(s):\n",
    "        lst = []\n",
    "        for ele in s:\n",
    "            new_token = re.sub('[\\w]','',ele)\n",
    "            length = len(new_token)\n",
    "            lst.append(length)\n",
    "        return lst\n",
    "    spam = spam_data[spam_data[\"target\"]==1]\n",
    "    not_spam = spam_data[spam_data[\"target\"]==0]\n",
    "    non_word_not_spam = np.array(non_word_count(not_spam.text)).mean()\n",
    "    non_word_spam = np.array(non_word_count(spam.text)).mean()\n",
    "    return float(non_word_not_spam),float(non_word_spam)   # CONVERTED TO FLOAT TYPE FOR GRADER"
   ]
  },
  {
   "cell_type": "code",
   "execution_count": 54,
   "metadata": {},
   "outputs": [
    {
     "data": {
      "text/plain": [
       "(17.29181347150259, 29.041499330655956)"
      ]
     },
     "execution_count": 54,
     "metadata": {},
     "output_type": "execute_result"
    }
   ],
   "source": [
    "answer_ten()\n"
   ]
  },
  {
   "cell_type": "markdown",
   "metadata": {},
   "source": [
    "### Question 11\n",
    "\n",
    "Fit and transform the training data X_train using a Count Vectorizer ignoring terms that have a document frequency strictly lower than **5** and using **character n-grams from n=2 to n=5.**\n",
    "\n",
    "To tell Count Vectorizer to use character n-grams pass in `analyzer='char_wb'` which creates character n-grams only from text inside word boundaries. This should make the model more robust to spelling mistakes.\n",
    "\n",
    "Using this document-term matrix and the following additional features:\n",
    "* the length of document (number of characters)\n",
    "* number of digits per document\n",
    "* **number of non-word characters (anything other than a letter, digit or underscore.)**\n",
    "\n",
    "fit a Logistic Regression model with regularization C=100. Then compute the area under the curve (AUC) score using the transformed test data.\n",
    "\n",
    "Also **find the 10 smallest and 10 largest coefficients from the model** and return them along with the AUC score in a tuple.\n",
    "\n",
    "The list of 10 smallest coefficients should be sorted smallest first, the list of 10 largest coefficients should be sorted largest first.\n",
    "\n",
    "The three features that were added to the document term matrix should have the following names should they appear in the list of coefficients:\n",
    "['length_of_doc', 'digit_count', 'non_word_char_count']\n",
    "\n",
    "*This function should return a tuple `(AUC score as a float, smallest coefs list, largest coefs list)`.*"
   ]
  },
  {
   "cell_type": "code",
   "execution_count": 88,
   "metadata": {
    "collapsed": true
   },
   "outputs": [],
   "source": [
    "def answer_eleven():\n",
    "\n",
    "    cv = CountVectorizer(min_df=5,ngram_range=(2,5),analyzer='char_wb')\n",
    "    # NON WORD COUNTS FUNCTION\n",
    "    import re\n",
    "    def non_word_count(s):\n",
    "        lst = []\n",
    "        for ele in s:\n",
    "            new_token = re.sub('[\\w]','',ele)\n",
    "            length = len(new_token)\n",
    "            lst.append(length)\n",
    "        return lst\n",
    "    \n",
    "    # FUNCTION TO COUNT DIGITS IN A DOCUMENT\n",
    "    def has_digit(s):\n",
    "        Sum=0\n",
    "        for char in s:\n",
    "            if char.isdigit():\n",
    "                Sum += 1\n",
    "        return Sum\n",
    "\n",
    "    train_DigitCount = []\n",
    "    test_DigitCount = []\n",
    "    for ele in X_train:\n",
    "        train_DigitCount.append(has_digit(ele))\n",
    "    for ele in X_test:\n",
    "        test_DigitCount.append(has_digit(ele))\n",
    "\n",
    "    X_train1 = cv.fit_transform(X_train)\n",
    "    length_of_doc = X_train.str.len()\n",
    "    digit_count = np.array(train_DigitCount)\n",
    "    non_word_char_count = np.array(non_word_count(X_train))\n",
    "    final_train_data = add_feature(X_train1,[length_of_doc,digit_count,non_word_char_count])\n",
    "\n",
    "    X_test1 = cv.transform(X_test)\n",
    "    length_of_doc = X_test.str.len()\n",
    "    digit_count = np.array(test_DigitCount)\n",
    "    non_word_char_count = np.array(non_word_count(X_test))\n",
    "    final_test_data = add_feature(X_test1,[length_of_doc,digit_count,non_word_char_count])\n",
    "\n",
    "    model = LogisticRegression(C=100).fit(final_train_data,y_train)\n",
    "    y_pred = model.predict(final_test_data)\n",
    "    result = roc_auc_score(y_test,y_pred)\n",
    "\n",
    "    Features = np.array(cv.get_feature_names() + ['length_of_doc', 'digit_count', 'non_word_char_count'])\n",
    "    sorted_coef_indices = model.coef_[0].argsort()\n",
    "    smallest_coefs_list = list(Features[sorted_coef_indices[:10]])\n",
    "    largest_coefs_list = list(Features[sorted_coef_indices[-1:-11:-1]])\n",
    "    return result,smallest_coefs_list,largest_coefs_list\n"
   ]
  },
  {
   "cell_type": "code",
   "execution_count": 89,
   "metadata": {},
   "outputs": [
    {
     "data": {
      "text/plain": [
       "(0.97885931107074342,\n",
       " ['. ', '..', '? ', ' i', ' y', ' go', ':)', ' h', 'go', ' m'],\n",
       " ['digit_count', 'ne', 'ia', 'co', 'xt', ' ch', 'mob', ' x', 'ww', 'ar'])"
      ]
     },
     "execution_count": 89,
     "metadata": {},
     "output_type": "execute_result"
    }
   ],
   "source": [
    "answer_eleven()"
   ]
  }
 ],
 "metadata": {
  "coursera": {
   "course_slug": "python-text-mining",
   "graded_item_id": "Pn19K",
   "launcher_item_id": "y1juS",
   "part_id": "ctlgo"
  },
  "kernelspec": {
   "display_name": "Python 3",
   "language": "python",
   "name": "python3"
  },
  "language_info": {
   "codemirror_mode": {
    "name": "ipython",
    "version": 3
   },
   "file_extension": ".py",
   "mimetype": "text/x-python",
   "name": "python",
   "nbconvert_exporter": "python",
   "pygments_lexer": "ipython3",
   "version": "3.6.2"
  }
 },
 "nbformat": 4,
 "nbformat_minor": 2
}
